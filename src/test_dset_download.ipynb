{
 "cells": [
  {
   "cell_type": "code",
   "execution_count": 1,
   "metadata": {},
   "outputs": [],
   "source": [
    "import sys\n",
    "import pathlib\n",
    "import tempfile\n",
    "\n",
    "# add nispace to path\n",
    "sys.path.append(str(pathlib.Path.home() / \"projects\" / \"nispace\"))\n",
    "from nispace import datasets\n",
    "\n",
    "temp_nispace_data = tempfile.TemporaryDirectory()\n",
    "github_config_file = pathlib.Path.home() / \"projects\" / \"nispace\" / \".github.config\"\n"
   ]
  },
  {
   "cell_type": "markdown",
   "metadata": {},
   "source": [
    "## Parcellations"
   ]
  },
  {
   "cell_type": "code",
   "execution_count": 2,
   "metadata": {},
   "outputs": [
    {
     "name": "stdout",
     "output_type": "stream",
     "text": [
      "\u001b[32mINFO | 16/01/25 18:30:14 | nispace: Loading parcellation 'Destrieux' in 'fsaverage' space.\u001b[0m\n",
      "Downloading /private/var/folders/6n/h4150p8d5gz5kbnqv5_406940000gp/T/tmpe2nxu1ca/parcellation/Destrieux/fsaverage/Destrieux_space-fsaverage_hemi-L.label.gii.gz.\n",
      "Downloading /private/var/folders/6n/h4150p8d5gz5kbnqv5_406940000gp/T/tmpe2nxu1ca/parcellation/Destrieux/fsaverage/Destrieux_space-fsaverage_hemi-L.label.txt.\n",
      "Downloading /private/var/folders/6n/h4150p8d5gz5kbnqv5_406940000gp/T/tmpe2nxu1ca/parcellation/Destrieux/fsaverage/Destrieux_space-fsaverage_hemi-L.dist.csv.gz.\n",
      "Downloading /private/var/folders/6n/h4150p8d5gz5kbnqv5_406940000gp/T/tmpe2nxu1ca/parcellation/Destrieux/fsaverage/Destrieux_space-fsaverage_hemi-R.label.gii.gz.\n",
      "Downloading /private/var/folders/6n/h4150p8d5gz5kbnqv5_406940000gp/T/tmpe2nxu1ca/parcellation/Destrieux/fsaverage/Destrieux_space-fsaverage_hemi-R.label.txt.\n",
      "Downloading /private/var/folders/6n/h4150p8d5gz5kbnqv5_406940000gp/T/tmpe2nxu1ca/parcellation/Destrieux/fsaverage/Destrieux_space-fsaverage_hemi-R.dist.csv.gz.\n",
      "\u001b[32mINFO | 16/01/25 18:30:16 | nispace: Loading parcellation 'DesikanKilliany' in 'fsaverage' space.\u001b[0m\n",
      "Downloading /private/var/folders/6n/h4150p8d5gz5kbnqv5_406940000gp/T/tmpe2nxu1ca/parcellation/DesikanKilliany/fsaverage/DesikanKilliany_space-fsaverage_hemi-L.label.gii.gz.\n",
      "Downloading /private/var/folders/6n/h4150p8d5gz5kbnqv5_406940000gp/T/tmpe2nxu1ca/parcellation/DesikanKilliany/fsaverage/DesikanKilliany_space-fsaverage_hemi-L.label.txt.\n",
      "Downloading /private/var/folders/6n/h4150p8d5gz5kbnqv5_406940000gp/T/tmpe2nxu1ca/parcellation/DesikanKilliany/fsaverage/DesikanKilliany_space-fsaverage_hemi-L.dist.csv.gz.\n",
      "Downloading /private/var/folders/6n/h4150p8d5gz5kbnqv5_406940000gp/T/tmpe2nxu1ca/parcellation/DesikanKilliany/fsaverage/DesikanKilliany_space-fsaverage_hemi-R.label.gii.gz.\n",
      "Downloading /private/var/folders/6n/h4150p8d5gz5kbnqv5_406940000gp/T/tmpe2nxu1ca/parcellation/DesikanKilliany/fsaverage/DesikanKilliany_space-fsaverage_hemi-R.label.txt.\n",
      "Downloading /private/var/folders/6n/h4150p8d5gz5kbnqv5_406940000gp/T/tmpe2nxu1ca/parcellation/DesikanKilliany/fsaverage/DesikanKilliany_space-fsaverage_hemi-R.dist.csv.gz.\n",
      "\u001b[32mINFO | 16/01/25 18:30:18 | nispace: Loading parcellation 'HCPex' in 'MNI152NLin2009cAsym' space.\u001b[0m\n",
      "Downloading /private/var/folders/6n/h4150p8d5gz5kbnqv5_406940000gp/T/tmpe2nxu1ca/parcellation/HCPex/MNI152NLin2009cAsym/parc-HCPex_space-MNI152NLin2009cAsym.label.nii.gz.\n",
      "Downloading /private/var/folders/6n/h4150p8d5gz5kbnqv5_406940000gp/T/tmpe2nxu1ca/parcellation/HCPex/MNI152NLin2009cAsym/parc-HCPex_space-MNI152NLin2009cAsym.label.txt.\n",
      "Downloading /private/var/folders/6n/h4150p8d5gz5kbnqv5_406940000gp/T/tmpe2nxu1ca/parcellation/HCPex/MNI152NLin2009cAsym/parc-HCPex_space-MNI152NLin2009cAsym.dist.csv.gz.\n",
      "\u001b[32mINFO | 16/01/25 18:30:19 | nispace: Loading parcellation 'Schaefer100MelbourneS1' in 'MNI152NLin2009cAsym' space.\u001b[0m\n",
      "Downloading /private/var/folders/6n/h4150p8d5gz5kbnqv5_406940000gp/T/tmpe2nxu1ca/parcellation/Schaefer100MelbourneS1/MNI152NLin2009cAsym/parc-Schaefer100MelbourneS1_space-MNI152NLin2009cAsym.label.nii.gz.\n",
      "Downloading /private/var/folders/6n/h4150p8d5gz5kbnqv5_406940000gp/T/tmpe2nxu1ca/parcellation/Schaefer100MelbourneS1/MNI152NLin2009cAsym/parc-Schaefer100MelbourneS1_space-MNI152NLin2009cAsym.label.txt.\n",
      "Downloading /private/var/folders/6n/h4150p8d5gz5kbnqv5_406940000gp/T/tmpe2nxu1ca/parcellation/Schaefer100MelbourneS1/MNI152NLin2009cAsym/parc-Schaefer100MelbourneS1_space-MNI152NLin2009cAsym.dist.csv.gz.\n",
      "\u001b[32mINFO | 16/01/25 18:30:20 | nispace: Loading parcellation 'Schaefer200MelbourneS2' in 'MNI152NLin2009cAsym' space.\u001b[0m\n",
      "Downloading /private/var/folders/6n/h4150p8d5gz5kbnqv5_406940000gp/T/tmpe2nxu1ca/parcellation/Schaefer200MelbourneS2/MNI152NLin2009cAsym/parc-Schaefer200MelbourneS2_space-MNI152NLin2009cAsym.label.nii.gz.\n",
      "Downloading /private/var/folders/6n/h4150p8d5gz5kbnqv5_406940000gp/T/tmpe2nxu1ca/parcellation/Schaefer200MelbourneS2/MNI152NLin2009cAsym/parc-Schaefer200MelbourneS2_space-MNI152NLin2009cAsym.label.txt.\n",
      "Downloading /private/var/folders/6n/h4150p8d5gz5kbnqv5_406940000gp/T/tmpe2nxu1ca/parcellation/Schaefer200MelbourneS2/MNI152NLin2009cAsym/parc-Schaefer200MelbourneS2_space-MNI152NLin2009cAsym.dist.csv.gz.\n",
      "\u001b[32mINFO | 16/01/25 18:30:21 | nispace: Loading parcellation 'Schaefer400MelbourneS3' in 'MNI152NLin2009cAsym' space.\u001b[0m\n",
      "Downloading /private/var/folders/6n/h4150p8d5gz5kbnqv5_406940000gp/T/tmpe2nxu1ca/parcellation/Schaefer400MelbourneS3/MNI152NLin2009cAsym/parc-Schaefer400MelbourneS3_space-MNI152NLin2009cAsym.label.nii.gz.\n",
      "Downloading /private/var/folders/6n/h4150p8d5gz5kbnqv5_406940000gp/T/tmpe2nxu1ca/parcellation/Schaefer400MelbourneS3/MNI152NLin2009cAsym/parc-Schaefer400MelbourneS3_space-MNI152NLin2009cAsym.label.txt.\n",
      "Downloading /private/var/folders/6n/h4150p8d5gz5kbnqv5_406940000gp/T/tmpe2nxu1ca/parcellation/Schaefer400MelbourneS3/MNI152NLin2009cAsym/parc-Schaefer400MelbourneS3_space-MNI152NLin2009cAsym.dist.csv.gz.\n"
     ]
    }
   ],
   "source": [
    "for parcellation in [\n",
    "    \"Destrieux\", \"DesikanKilliany\", \n",
    "    \"HCPex\", \n",
    "    \"Schaefer100MelbourneS1\", \"Schaefer200MelbourneS2\", \"Schaefer400MelbourneS3\"\n",
    "]:\n",
    "    \n",
    "    datasets.fetch_parcellation(parcellation, nispace_data_dir=temp_nispace_data.name, return_dist_mat=True)"
   ]
  },
  {
   "cell_type": "markdown",
   "metadata": {},
   "source": [
    "## Templates"
   ]
  },
  {
   "cell_type": "code",
   "execution_count": 4,
   "metadata": {},
   "outputs": [
    {
     "name": "stdout",
     "output_type": "stream",
     "text": [
      "\u001b[32mINFO | 16/01/25 18:31:46 | nispace: Loading MNI152NLin2009cAsym 'T1w' template in '1mm' resolution.\u001b[0m\n",
      "Downloading /private/var/folders/6n/h4150p8d5gz5kbnqv5_406940000gp/T/tmpe2nxu1ca/template/MNI152NLin2009cAsym/map/T1w/tpl-MNI152NLin2009cAsym_desc-T1w_res-1mm.nii.gz.\n",
      "\u001b[32mINFO | 16/01/25 18:31:49 | nispace: Loading MNI152NLin6Asym 'T1w' template in '1mm' resolution.\u001b[0m\n",
      "Downloading /private/var/folders/6n/h4150p8d5gz5kbnqv5_406940000gp/T/tmpe2nxu1ca/template/MNI152NLin6Asym/map/T1w/tpl-MNI152NLin6Asym_desc-T1w_res-1mm.nii.gz.\n",
      "\u001b[32mINFO | 16/01/25 18:31:52 | nispace: Loading fsaverage 'pial' template in '10k' resolution.\u001b[0m\n",
      "Downloading /private/var/folders/6n/h4150p8d5gz5kbnqv5_406940000gp/T/tmpe2nxu1ca/template/fsaverage/map/pial/tpl-fsaverage_desc-pial_res-10k_hemi-L.surf.gii.\n",
      "Downloading /private/var/folders/6n/h4150p8d5gz5kbnqv5_406940000gp/T/tmpe2nxu1ca/template/fsaverage/map/pial/tpl-fsaverage_desc-pial_res-10k_hemi-R.surf.gii.\n"
     ]
    }
   ],
   "source": [
    "for template in [\n",
    "    \"MNI152NLin2009cAsym\", \"MNI152NLin6Asym\", \"fsaverage\"\n",
    "]:\n",
    "    datasets.fetch_template(template, nispace_data_dir=temp_nispace_data.name)"
   ]
  },
  {
   "cell_type": "markdown",
   "metadata": {},
   "source": [
    "## Reference data"
   ]
  },
  {
   "cell_type": "markdown",
   "metadata": {},
   "source": [
    "### Imaging"
   ]
  },
  {
   "cell_type": "code",
   "execution_count": 3,
   "metadata": {},
   "outputs": [
    {
     "name": "stdout",
     "output_type": "stream",
     "text": [
      "\u001b[32mINFO | 16/01/25 18:56:22 | nispace: Loading pet maps.\u001b[0m\n",
      "The NiSpace \"PET\" dataset is based on openly available nuclear imaging maps largely accessed via neuromaps \n",
      "(https://neuromaps-main.readthedocs.io/). If requested in the varying original spaces and resolutions (termed \"MNI152\"),\n",
      "the maps are downloaded directly from the source and cached locally. If, as is highly recommended, the maps are requested in \n",
      "a defined space (\"MNI152NLin2009cAsym\" or \"MNI152NLin6Asym\"), they are downloaded from the NiSpace OSF project (find them in \n",
      "`~HOME/nispace-data/reference/pet/map`). The NiSpace-hosted maps were directly registered to 2mm MNI152NLin6Asym space, \n",
      "and then transformed to 2mm MNI152NLin2009cAsym with a pre-estimated MNI-to-MNI transformation using SynthMorph v4 \n",
      "(https://martinos.org/malte/synthmorph/). The resulting maps were masked with a liberal gray matter mask and scaled from 1e-6 to 1.\n",
      "\n",
      "- target-5HT1a_tracer-cumi101_n-8_dx-hc_pub-beliveau2017         Source: Beliveau2017       CC BY-NC-SA 4.0  https://doi.org/10.1523/JNEUROSCI.2830-16.2016\n",
      "    CAVE: Processed in fsaverage space, use  volumetric maps only for subcortex!\n",
      "- target-5HT1a_tracer-way100635_n-35_dx-hc_pub-savli2012         Source: Savli2012          CC BY-NC-SA 4.0  https://doi.org/10.1016/j.neuroimage.2012.07.001\n",
      "- target-5HT1b_tracer-az10419369_n-36_dx-hc_pub-beliveau2017     Source: Beliveau2017       CC BY-NC-SA 4.0  https://doi.org/10.1523/JNEUROSCI.2830-16.2016\n",
      "    CAVE: Processed in fsaverage space, use  volumetric maps only for subcortex!\n",
      "- target-5HT1b_tracer-p943_n-23_dx-hc_pub-savli2012              Source: Savli2012          CC BY-NC-SA 4.0  https://doi.org/10.1016/j.neuroimage.2012.07.001\n",
      "- target-5HT1b_tracer-p943_n-65_dx-hc_pub-gallezot2010           Source: Gallezot2010       CC BY-NC-SA 4.0  https://doi.org/10.1038/jcbfm.2009.195, https://doi.org/10.1007/s00213-010-1881-0, https://doi.org/10.1001/archgenpsychiatry.2011.91, https://doi.org/10.1016/j.biopsych.2013.11.022, https://doi.org/10.1016/j.jad.2016.02.021, https://doi.org/10.1007/s00259-014-2958-5, https://doi.org/10.1002/syn.22159\n",
      "- target-5HT2a_tracer-altanserin_n-19_dx-hc_pub-savli2012        Source: Savli2012          CC BY-NC-SA 4.0  https://doi.org/10.1016/j.neuroimage.2012.07.001\n",
      "- target-5HT2a_tracer-cimbi36_n-29_dx-hc_pub-beliveau2017        Source: Beliveau2017       CC BY-NC-SA 4.0  https://doi.org/10.1523/JNEUROSCI.2830-16.2016\n",
      "    CAVE: Processed in fsaverage space, use  volumetric maps only for subcortex!\n",
      "- target-5HT4_tracer-sb207145_n-59_dx-hc_pub-beliveau2017        Source: Beliveau2017       CC BY-NC-SA 4.0  https://doi.org/10.1523/JNEUROSCI.2830-16.2016\n",
      "    CAVE: Processed in fsaverage space, use  volumetric maps only for subcortex!\n",
      "- target-5HT6_tracer-gsk215083_n-30_dx-hc_pub-radhakrishnan2018  Source: Radhakrishnan2018  CC BY-NC-SA 4.0  https://doi.org/10.2967/jnumed.117.206516, https://doi.org/10.1016/j.pscychresns.2019.111007\n",
      "- target-5HTT_tracer-dasb_n-100_dx-hc_pub-beliveau2017           Source: Beliveau2017       CC BY-NC-SA 4.0  https://doi.org/10.1523/JNEUROSCI.2830-16.2016\n",
      "    CAVE: Processed in fsaverage space, use  volumetric maps only for subcortex!\n",
      "- target-5HTT_tracer-dasb_n-18_dx-hc_pub-savli2012               Source: Savli2012          CC BY-NC-SA 4.0  https://doi.org/10.1016/j.neuroimage.2012.07.001\n",
      "- target-5HTT_tracer-madam_n-10_dx-hc_pub-fazio2016              Source: Fazio2016          CC BY-NC-SA 4.0  https://doi.org/10.1016/j.neuroimage.2016.03.019\n",
      "- target-A4B2_tracer-flubatine_n-30_dx-hc_pub-hillmer2016        Source: Hillmer2016        CC BY-NC-SA 4.0  https://doi.org/10.1016/j.neuroimage.2016.07.026, https://doi.org/10.1093/ntr/ntx091\n",
      "- target-CB1_tracer-fmpepd2_n-22_dx-hc_pub-laurikainen2019       Source: Laurikainen2019    CC BY-NC-SA 4.0  https://doi.org/10.1016/j.neuroimage.2018.10.013\n",
      "- target-CB1_tracer-omar_n-77_dx-hc_pub-normandin2015            Source: Normandin2015      CC BY-NC-SA 4.0  https://doi.org/10.1038/jcbfm.2015.46, https://doi.org/10.1016/j.bpsc.2015.09.008, https://doi.org/10.1016/j.biopsych.2015.08.021, https://doi.org/10.1111/j.1530-0277.2012.01815.x\n",
      "- target-CMRglu_tracer-fdg_n-20_dx-hc_pub-castrillon2023         Source: Castrillon2023     CC BY-NC-SA 4.0  https://doi.org/10.1126/sciadv.adi7632\n",
      "- target-CMRglu_tracer-fdg_n-28_dx-hc_pub-shokrikojori2019       Source: Shokrikojori2019   no reupload      https://doi.org/10.1038/s41467-019-08546-x\n",
      "- target-COX1_tracer-ps13_n-11_dx-hc_pub-kim2020                 Source: Kim2020            CC0 1.0          https://doi.org/10.1007/s00259-020-04855-2, https://doi.org/10.18112/openneuro.ds004401.v1.0.1\n",
      "- target-D1_tracer-sch23390_n-13_dx-hc_pub-kaller2017            Source: Kaller2017         CC BY-NC-SA 4.0  https://doi.org/10.1007/s00259-017-3645-0\n",
      "- target-D23_tracer-fallypride_n-49_dx-hc_pub-jaworska2020       Source: Jaworska2020       CC BY-NC-SA 4.0  https://doi.org/10.1038/s41386-020-0662-7\n",
      "- target-D23_tracer-flb457_n-37_dx-hc_pub-smith2017              Source: Smith2017          CC BY-NC-SA 4.0  https://doi.org/10.1177/0271678X17737693\n",
      "- target-D23_tracer-flb457_n-55_dx-hc_pub-sandiego2015           Source: Sandiego2015       CC BY-NC-SA 4.0  https://doi.org/10.1038/jcbfm.2014.237, https://doi.org/10.1177/0271678X17737693, https://doi.org/10.1038/s41386-019-0456-y, https://doi.org/10.1001/jamapsychiatry.2014.2414, https://doi.org/10.1038/npp.2017.223\n",
      "- target-DAT_tracer-fepe2i_n-6_dx-hc_pub-sasaki2012              Source: Sasaki2012         CC BY-NC-SA 4.0  https://doi.org/10.2967/jnumed.111.101626\n",
      "- target-DAT_tracer-fpcit_n-174_dx-hc_pub-dukart2018             Source: Dukart2018         CC BY-NC-SA 4.0  https://doi.org/10.1038/s41598-018-22444-0\n",
      "    CAVE: SPECT, not PET!\n",
      "- target-DAT_tracer-fpcit_n-30_dx-hc_pub-garciagomez2013         Source: Garciagomez2013    free             https://doi.org/10.1016/j.remn.2013.02.009\n",
      "    CAVE: SPECT, not PET!\n",
      "- target-FDOPA_tracer-fluorodopa_n-12_dx-hc_pub-garciagomez2018  Source: Garciagomez2018    free             https://doi.org/10.33588/imagendiagnostica.901.2\n",
      "- target-GABAa_tracer-flumazenil_n-16_dx-hc_pub-norgaard2021     Source: Norgaard2021       CC BY-NC-SA 4.0  https://doi.org/10.1016/j.neuroimage.2021.117878\n",
      "    CAVE: Processed in fsaverage space, use  volumetric maps only for subcortex!\n",
      "- target-GABAa_tracer-flumazenil_n-6_dx-hc_pub-dukart2018        Source: Dukart2018         CC BY-NC-SA 4.0  https://doi.org/10.1038/s41598-018-22444-0\n",
      "- target-GABAa_tracer-flumazenil_n-10_dx-hc_pub-kaulen2022       Source: Kaulen2022         on application   https://doi.org/10.1002/hbm.25778, https://doi.org/10.1016/j.neuroimage.2020.117160\n",
      "- target-GABAa5_tracer-ro154513_n-10_dx-hc_pub-lukow2022         Source: Lukow2022          CC BY 4.0        https://doi.org/10.1038/s42003-022-03268-1\n",
      "- target-H3_tracer-gsk189254_n-8_dx-hc_pub-gallezot2017          Source: Gallezot2017       CC BY-NC-SA 4.0  https://doi.org/10.1177/0271678X16650697, https://doi.org/10.1038/jcbfm.2009.195\n",
      "- target-HDAC_tracer-martinostat_n-8_dx-hc_pub-wey2016           Source: Wey2016            CC0 1.0          https://doi.org/10.1126/scitranslmed.aaf7551\n",
      "- target-KOR_tracer-ly2795050_n-28_dx-hc_pub-vijay2018           Source: Vijay2018          CC BY-NC-SA 4.0  https://doi.org/10.1038/s41386-018-0199-1\n",
      "- target-M1_tracer-lsn3172176_n-24_dx-hc_pub-naganawa2020        Source: Naganawa2020       CC BY-NC-SA 4.0  https://doi.org/10.2967/jnumed.120.246967\n",
      "- target-mGluR5_tracer-abp688_n-22_dx-hc_pub-rosaneto            Source: Rosaneto           CC BY-NC-SA 4.0  https://doi.org/10.1101/2021.10.28.466336\n",
      "- target-mGluR5_tracer-abp688_n-28_dx-hc_pub-dubois2015          Source: Dubois2015         CC BY-NC-SA 4.0  https://doi.org/10.1007/s00259-015-3167-6\n",
      "- target-mGluR5_tracer-abp688_n-73_dx-hc_pub-smart2019           Source: Smart2019          CC BY-NC-SA 4.0  https://doi.org/10.1007/s00259-018-4252-4\n",
      "- target-mGluR5_tracer-abp688_n-13_dx-hc_pub-kaulen2022          Source: Kaulen2022         on application   https://doi.org/10.1002/hbm.25778, https://doi.org/10.1002/hbm.24976\n",
      "- target-MOR_tracer-carfentanil_n-204_dx-hc_pub-kantonen2020     Source: Kantonen2020       CC BY-NC-SA 4.0  https://doi.org/10.1038/mp.2017.183\n",
      "- target-MOR_tracer-carfentanil_n-39_dx-hc_pub-turtonen2021      Source: Turtonen2021       CC BY-NC-SA 4.0  https://doi.org/10.1016/j.bpsc.2020.10.013\n",
      "- target-NET_tracer-mrb_n-10_dx-hc_pub-hesse2017                 Source: Hesse2017          CC BY-NC-SA 4.0  https://doi.org/10.1007/s00259-016-3590-3\n",
      "- target-NET_tracer-mrb_n-77_dx-hc_pub-ding2010                  Source: Ding2010           CC BY-NC-SA 4.0  https://doi.org/10.1002/syn.20696, https://doi.org/10.1016/j.neuroimage.2013.10.004, https://doi.org/10.1038/s41366-019-0471-4, https://doi.org/10.1210/jc.2017-02717\n",
      "- target-NMDA_tracer-ge179_n-29_dx-hc_pub-galovic2021            Source: Galovic2021        CC BY-NC-SA 4.0  https://doi.org/10.1001/jamaneurol.2022.4352, https://doi.org/10.1016/j.neuroimage.2021.118194, https://doi.org/10.2967/jnumed.113.130641\n",
      "    CAVE: Unlike other tracers, [18F]GE-179 binds to open (active) NMDA receptors!\n",
      "- target-TSPO_tracer-pbr28_n-6_dx-hc_pub-lois2018                Source: Lois2018           MIT              https://doi.org/10.1021/acschemneuro.8b00072, https://doi.org/10.5281/zenodo.1174364\n",
      "- target-VAChT_tracer-feobv_n-18_dx-hc_pub-aghourian2017         Source: Aghourian2017      CC BY-NC-SA 4.0  https://doi.org/10.1038/mp.2017.183\n",
      "- target-VAChT_tracer-feobv_n-4_dx-hc_pub-tuominen               Source: Tuominen           CC BY-NC-SA 4.0  https://doi.org/10.1101/2021.10.28.466336\n",
      "- target-VAChT_tracer-feobv_n-5_dx-hc_pub-bedard2019             Source: Bedard2019         CC BY-NC-SA 4.0  https://doi.org/10.1016/j.sleep.2018.12.020\n",
      "- target-VMAT2_tracer-dtbz_n-76_dx-hc_pub-larsen2020             Source: Larsen2020         CC0 1.0          https://doi.org/10.18112/openneuro.ds002385.v1.1.0, https://doi.org/10.1038/s41467-020-14693-3\n",
      "\n"
     ]
    },
    {
     "data": {
      "text/plain": [
       "[PosixPath('/var/folders/6n/h4150p8d5gz5kbnqv5_406940000gp/T/tmp8nhl7ijk/reference/pet/map/target-5HT1a_tracer-cumi101_n-8_dx-hc_pub-beliveau2017/target-5HT1a_tracer-cumi101_n-8_dx-hc_pub-beliveau2017_space-MNI152NLin2009cAsym.nii.gz'),\n",
       " PosixPath('/var/folders/6n/h4150p8d5gz5kbnqv5_406940000gp/T/tmp8nhl7ijk/reference/pet/map/target-5HT1a_tracer-way100635_n-35_dx-hc_pub-savli2012/target-5HT1a_tracer-way100635_n-35_dx-hc_pub-savli2012_space-MNI152NLin2009cAsym.nii.gz'),\n",
       " PosixPath('/var/folders/6n/h4150p8d5gz5kbnqv5_406940000gp/T/tmp8nhl7ijk/reference/pet/map/target-5HT1b_tracer-az10419369_n-36_dx-hc_pub-beliveau2017/target-5HT1b_tracer-az10419369_n-36_dx-hc_pub-beliveau2017_space-MNI152NLin2009cAsym.nii.gz'),\n",
       " PosixPath('/var/folders/6n/h4150p8d5gz5kbnqv5_406940000gp/T/tmp8nhl7ijk/reference/pet/map/target-5HT1b_tracer-p943_n-23_dx-hc_pub-savli2012/target-5HT1b_tracer-p943_n-23_dx-hc_pub-savli2012_space-MNI152NLin2009cAsym.nii.gz'),\n",
       " PosixPath('/var/folders/6n/h4150p8d5gz5kbnqv5_406940000gp/T/tmp8nhl7ijk/reference/pet/map/target-5HT1b_tracer-p943_n-65_dx-hc_pub-gallezot2010/target-5HT1b_tracer-p943_n-65_dx-hc_pub-gallezot2010_space-MNI152NLin2009cAsym.nii.gz'),\n",
       " PosixPath('/var/folders/6n/h4150p8d5gz5kbnqv5_406940000gp/T/tmp8nhl7ijk/reference/pet/map/target-5HT2a_tracer-altanserin_n-19_dx-hc_pub-savli2012/target-5HT2a_tracer-altanserin_n-19_dx-hc_pub-savli2012_space-MNI152NLin2009cAsym.nii.gz'),\n",
       " PosixPath('/var/folders/6n/h4150p8d5gz5kbnqv5_406940000gp/T/tmp8nhl7ijk/reference/pet/map/target-5HT2a_tracer-cimbi36_n-29_dx-hc_pub-beliveau2017/target-5HT2a_tracer-cimbi36_n-29_dx-hc_pub-beliveau2017_space-MNI152NLin2009cAsym.nii.gz'),\n",
       " PosixPath('/var/folders/6n/h4150p8d5gz5kbnqv5_406940000gp/T/tmp8nhl7ijk/reference/pet/map/target-5HT4_tracer-sb207145_n-59_dx-hc_pub-beliveau2017/target-5HT4_tracer-sb207145_n-59_dx-hc_pub-beliveau2017_space-MNI152NLin2009cAsym.nii.gz'),\n",
       " PosixPath('/var/folders/6n/h4150p8d5gz5kbnqv5_406940000gp/T/tmp8nhl7ijk/reference/pet/map/target-5HT6_tracer-gsk215083_n-30_dx-hc_pub-radhakrishnan2018/target-5HT6_tracer-gsk215083_n-30_dx-hc_pub-radhakrishnan2018_space-MNI152NLin2009cAsym.nii.gz'),\n",
       " PosixPath('/var/folders/6n/h4150p8d5gz5kbnqv5_406940000gp/T/tmp8nhl7ijk/reference/pet/map/target-5HTT_tracer-dasb_n-100_dx-hc_pub-beliveau2017/target-5HTT_tracer-dasb_n-100_dx-hc_pub-beliveau2017_space-MNI152NLin2009cAsym.nii.gz'),\n",
       " PosixPath('/var/folders/6n/h4150p8d5gz5kbnqv5_406940000gp/T/tmp8nhl7ijk/reference/pet/map/target-5HTT_tracer-dasb_n-18_dx-hc_pub-savli2012/target-5HTT_tracer-dasb_n-18_dx-hc_pub-savli2012_space-MNI152NLin2009cAsym.nii.gz'),\n",
       " PosixPath('/var/folders/6n/h4150p8d5gz5kbnqv5_406940000gp/T/tmp8nhl7ijk/reference/pet/map/target-5HTT_tracer-madam_n-10_dx-hc_pub-fazio2016/target-5HTT_tracer-madam_n-10_dx-hc_pub-fazio2016_space-MNI152NLin2009cAsym.nii.gz'),\n",
       " PosixPath('/var/folders/6n/h4150p8d5gz5kbnqv5_406940000gp/T/tmp8nhl7ijk/reference/pet/map/target-A4B2_tracer-flubatine_n-30_dx-hc_pub-hillmer2016/target-A4B2_tracer-flubatine_n-30_dx-hc_pub-hillmer2016_space-MNI152NLin2009cAsym.nii.gz'),\n",
       " PosixPath('/var/folders/6n/h4150p8d5gz5kbnqv5_406940000gp/T/tmp8nhl7ijk/reference/pet/map/target-CB1_tracer-fmpepd2_n-22_dx-hc_pub-laurikainen2019/target-CB1_tracer-fmpepd2_n-22_dx-hc_pub-laurikainen2019_space-MNI152NLin2009cAsym.nii.gz'),\n",
       " PosixPath('/var/folders/6n/h4150p8d5gz5kbnqv5_406940000gp/T/tmp8nhl7ijk/reference/pet/map/target-CB1_tracer-omar_n-77_dx-hc_pub-normandin2015/target-CB1_tracer-omar_n-77_dx-hc_pub-normandin2015_space-MNI152NLin2009cAsym.nii.gz'),\n",
       " PosixPath('/var/folders/6n/h4150p8d5gz5kbnqv5_406940000gp/T/tmp8nhl7ijk/reference/pet/map/target-CMRglu_tracer-fdg_n-20_dx-hc_pub-castrillon2023/target-CMRglu_tracer-fdg_n-20_dx-hc_pub-castrillon2023_space-MNI152NLin2009cAsym.nii.gz'),\n",
       " PosixPath('/var/folders/6n/h4150p8d5gz5kbnqv5_406940000gp/T/tmp8nhl7ijk/reference/pet/map/target-CMRglu_tracer-fdg_n-28_dx-hc_pub-shokrikojori2019/target-CMRglu_tracer-fdg_n-28_dx-hc_pub-shokrikojori2019_space-MNI152NLin2009cAsym.nii.gz'),\n",
       " PosixPath('/var/folders/6n/h4150p8d5gz5kbnqv5_406940000gp/T/tmp8nhl7ijk/reference/pet/map/target-COX1_tracer-ps13_n-11_dx-hc_pub-kim2020/target-COX1_tracer-ps13_n-11_dx-hc_pub-kim2020_space-MNI152NLin2009cAsym.nii.gz'),\n",
       " PosixPath('/var/folders/6n/h4150p8d5gz5kbnqv5_406940000gp/T/tmp8nhl7ijk/reference/pet/map/target-D1_tracer-sch23390_n-13_dx-hc_pub-kaller2017/target-D1_tracer-sch23390_n-13_dx-hc_pub-kaller2017_space-MNI152NLin2009cAsym.nii.gz'),\n",
       " PosixPath('/var/folders/6n/h4150p8d5gz5kbnqv5_406940000gp/T/tmp8nhl7ijk/reference/pet/map/target-D23_tracer-fallypride_n-49_dx-hc_pub-jaworska2020/target-D23_tracer-fallypride_n-49_dx-hc_pub-jaworska2020_space-MNI152NLin2009cAsym.nii.gz'),\n",
       " PosixPath('/var/folders/6n/h4150p8d5gz5kbnqv5_406940000gp/T/tmp8nhl7ijk/reference/pet/map/target-D23_tracer-flb457_n-37_dx-hc_pub-smith2017/target-D23_tracer-flb457_n-37_dx-hc_pub-smith2017_space-MNI152NLin2009cAsym.nii.gz'),\n",
       " PosixPath('/var/folders/6n/h4150p8d5gz5kbnqv5_406940000gp/T/tmp8nhl7ijk/reference/pet/map/target-D23_tracer-flb457_n-55_dx-hc_pub-sandiego2015/target-D23_tracer-flb457_n-55_dx-hc_pub-sandiego2015_space-MNI152NLin2009cAsym.nii.gz'),\n",
       " PosixPath('/var/folders/6n/h4150p8d5gz5kbnqv5_406940000gp/T/tmp8nhl7ijk/reference/pet/map/target-D23_tracer-raclopride_n-156_dx-hc_pub-malen2022/target-D23_tracer-raclopride_n-156_dx-hc_pub-malen2022_space-MNI152NLin2009cAsym.nii.gz'),\n",
       " PosixPath('/var/folders/6n/h4150p8d5gz5kbnqv5_406940000gp/T/tmp8nhl7ijk/reference/pet/map/target-D23_tracer-raclopride_n-7_dx-hc_pub-alarkurtti2015/target-D23_tracer-raclopride_n-7_dx-hc_pub-alarkurtti2015_space-MNI152NLin2009cAsym.nii.gz'),\n",
       " PosixPath('/var/folders/6n/h4150p8d5gz5kbnqv5_406940000gp/T/tmp8nhl7ijk/reference/pet/map/target-DAT_tracer-fepe2i_n-6_dx-hc_pub-sasaki2012/target-DAT_tracer-fepe2i_n-6_dx-hc_pub-sasaki2012_space-MNI152NLin2009cAsym.nii.gz'),\n",
       " PosixPath('/var/folders/6n/h4150p8d5gz5kbnqv5_406940000gp/T/tmp8nhl7ijk/reference/pet/map/target-DAT_tracer-fpcit_n-174_dx-hc_pub-dukart2018/target-DAT_tracer-fpcit_n-174_dx-hc_pub-dukart2018_space-MNI152NLin2009cAsym.nii.gz'),\n",
       " PosixPath('/var/folders/6n/h4150p8d5gz5kbnqv5_406940000gp/T/tmp8nhl7ijk/reference/pet/map/target-DAT_tracer-fpcit_n-30_dx-hc_pub-garciagomez2013/target-DAT_tracer-fpcit_n-30_dx-hc_pub-garciagomez2013_space-MNI152NLin2009cAsym.nii.gz'),\n",
       " PosixPath('/var/folders/6n/h4150p8d5gz5kbnqv5_406940000gp/T/tmp8nhl7ijk/reference/pet/map/target-FDOPA_tracer-fluorodopa_n-12_dx-hc_pub-garciagomez2018/target-FDOPA_tracer-fluorodopa_n-12_dx-hc_pub-garciagomez2018_space-MNI152NLin2009cAsym.nii.gz'),\n",
       " PosixPath('/var/folders/6n/h4150p8d5gz5kbnqv5_406940000gp/T/tmp8nhl7ijk/reference/pet/map/target-GABAa5_tracer-ro154513_n-10_dx-hc_pub-lukow2022/target-GABAa5_tracer-ro154513_n-10_dx-hc_pub-lukow2022_space-MNI152NLin2009cAsym.nii.gz'),\n",
       " PosixPath('/var/folders/6n/h4150p8d5gz5kbnqv5_406940000gp/T/tmp8nhl7ijk/reference/pet/map/target-GABAa_tracer-flumazenil_n-16_dx-hc_pub-norgaard2021/target-GABAa_tracer-flumazenil_n-16_dx-hc_pub-norgaard2021_space-MNI152NLin2009cAsym.nii.gz'),\n",
       " PosixPath('/var/folders/6n/h4150p8d5gz5kbnqv5_406940000gp/T/tmp8nhl7ijk/reference/pet/map/target-GABAa_tracer-flumazenil_n-6_dx-hc_pub-dukart2018/target-GABAa_tracer-flumazenil_n-6_dx-hc_pub-dukart2018_space-MNI152NLin2009cAsym.nii.gz'),\n",
       " PosixPath('/var/folders/6n/h4150p8d5gz5kbnqv5_406940000gp/T/tmp8nhl7ijk/reference/pet/map/target-GABAa_tracer-flumazenil_n-10_dx-hc_pub-kaulen2022/target-GABAa_tracer-flumazenil_n-10_dx-hc_pub-kaulen2022_space-MNI152NLin2009cAsym.nii.gz'),\n",
       " PosixPath('/var/folders/6n/h4150p8d5gz5kbnqv5_406940000gp/T/tmp8nhl7ijk/reference/pet/map/target-H3_tracer-gsk189254_n-8_dx-hc_pub-gallezot2017/target-H3_tracer-gsk189254_n-8_dx-hc_pub-gallezot2017_space-MNI152NLin2009cAsym.nii.gz'),\n",
       " PosixPath('/var/folders/6n/h4150p8d5gz5kbnqv5_406940000gp/T/tmp8nhl7ijk/reference/pet/map/target-HDAC_tracer-martinostat_n-8_dx-hc_pub-wey2016/target-HDAC_tracer-martinostat_n-8_dx-hc_pub-wey2016_space-MNI152NLin2009cAsym.nii.gz'),\n",
       " PosixPath('/var/folders/6n/h4150p8d5gz5kbnqv5_406940000gp/T/tmp8nhl7ijk/reference/pet/map/target-KOR_tracer-ly2795050_n-28_dx-hc_pub-vijay2018/target-KOR_tracer-ly2795050_n-28_dx-hc_pub-vijay2018_space-MNI152NLin2009cAsym.nii.gz'),\n",
       " PosixPath('/var/folders/6n/h4150p8d5gz5kbnqv5_406940000gp/T/tmp8nhl7ijk/reference/pet/map/target-M1_tracer-lsn3172176_n-24_dx-hc_pub-naganawa2020/target-M1_tracer-lsn3172176_n-24_dx-hc_pub-naganawa2020_space-MNI152NLin2009cAsym.nii.gz'),\n",
       " PosixPath('/var/folders/6n/h4150p8d5gz5kbnqv5_406940000gp/T/tmp8nhl7ijk/reference/pet/map/target-mGluR5_tracer-abp688_n-22_dx-hc_pub-rosaneto/target-mGluR5_tracer-abp688_n-22_dx-hc_pub-rosaneto_space-MNI152NLin2009cAsym.nii.gz'),\n",
       " PosixPath('/var/folders/6n/h4150p8d5gz5kbnqv5_406940000gp/T/tmp8nhl7ijk/reference/pet/map/target-mGluR5_tracer-abp688_n-28_dx-hc_pub-dubois2015/target-mGluR5_tracer-abp688_n-28_dx-hc_pub-dubois2015_space-MNI152NLin2009cAsym.nii.gz'),\n",
       " PosixPath('/var/folders/6n/h4150p8d5gz5kbnqv5_406940000gp/T/tmp8nhl7ijk/reference/pet/map/target-mGluR5_tracer-abp688_n-73_dx-hc_pub-smart2019/target-mGluR5_tracer-abp688_n-73_dx-hc_pub-smart2019_space-MNI152NLin2009cAsym.nii.gz'),\n",
       " PosixPath('/var/folders/6n/h4150p8d5gz5kbnqv5_406940000gp/T/tmp8nhl7ijk/reference/pet/map/target-mGluR5_tracer-abp688_n-13_dx-hc_pub-kaulen2022/target-mGluR5_tracer-abp688_n-13_dx-hc_pub-kaulen2022_space-MNI152NLin2009cAsym.nii.gz'),\n",
       " PosixPath('/var/folders/6n/h4150p8d5gz5kbnqv5_406940000gp/T/tmp8nhl7ijk/reference/pet/map/target-MOR_tracer-carfentanil_n-204_dx-hc_pub-kantonen2020/target-MOR_tracer-carfentanil_n-204_dx-hc_pub-kantonen2020_space-MNI152NLin2009cAsym.nii.gz'),\n",
       " PosixPath('/var/folders/6n/h4150p8d5gz5kbnqv5_406940000gp/T/tmp8nhl7ijk/reference/pet/map/target-MOR_tracer-carfentanil_n-39_dx-hc_pub-turtonen2021/target-MOR_tracer-carfentanil_n-39_dx-hc_pub-turtonen2021_space-MNI152NLin2009cAsym.nii.gz'),\n",
       " PosixPath('/var/folders/6n/h4150p8d5gz5kbnqv5_406940000gp/T/tmp8nhl7ijk/reference/pet/map/target-NET_tracer-mrb_n-10_dx-hc_pub-hesse2017/target-NET_tracer-mrb_n-10_dx-hc_pub-hesse2017_space-MNI152NLin2009cAsym.nii.gz'),\n",
       " PosixPath('/var/folders/6n/h4150p8d5gz5kbnqv5_406940000gp/T/tmp8nhl7ijk/reference/pet/map/target-NET_tracer-mrb_n-77_dx-hc_pub-ding2010/target-NET_tracer-mrb_n-77_dx-hc_pub-ding2010_space-MNI152NLin2009cAsym.nii.gz'),\n",
       " PosixPath('/var/folders/6n/h4150p8d5gz5kbnqv5_406940000gp/T/tmp8nhl7ijk/reference/pet/map/target-NMDA_tracer-ge179_n-29_dx-hc_pub-galovic2021/target-NMDA_tracer-ge179_n-29_dx-hc_pub-galovic2021_space-MNI152NLin2009cAsym.nii.gz'),\n",
       " PosixPath('/var/folders/6n/h4150p8d5gz5kbnqv5_406940000gp/T/tmp8nhl7ijk/reference/pet/map/target-SV2A_tracer-ucbj_n-10_dx-hc_pub-finnema2016/target-SV2A_tracer-ucbj_n-10_dx-hc_pub-finnema2016_space-MNI152NLin2009cAsym.nii.gz'),\n",
       " PosixPath('/var/folders/6n/h4150p8d5gz5kbnqv5_406940000gp/T/tmp8nhl7ijk/reference/pet/map/target-TSPO_tracer-pbr28_n-6_dx-hc_pub-lois2018/target-TSPO_tracer-pbr28_n-6_dx-hc_pub-lois2018_space-MNI152NLin2009cAsym.nii.gz'),\n",
       " PosixPath('/var/folders/6n/h4150p8d5gz5kbnqv5_406940000gp/T/tmp8nhl7ijk/reference/pet/map/target-VAChT_tracer-feobv_n-18_dx-hc_pub-aghourian2017/target-VAChT_tracer-feobv_n-18_dx-hc_pub-aghourian2017_space-MNI152NLin2009cAsym.nii.gz'),\n",
       " PosixPath('/var/folders/6n/h4150p8d5gz5kbnqv5_406940000gp/T/tmp8nhl7ijk/reference/pet/map/target-VAChT_tracer-feobv_n-4_dx-hc_pub-tuominen/target-VAChT_tracer-feobv_n-4_dx-hc_pub-tuominen_space-MNI152NLin2009cAsym.nii.gz'),\n",
       " PosixPath('/var/folders/6n/h4150p8d5gz5kbnqv5_406940000gp/T/tmp8nhl7ijk/reference/pet/map/target-VAChT_tracer-feobv_n-5_dx-hc_pub-bedard2019/target-VAChT_tracer-feobv_n-5_dx-hc_pub-bedard2019_space-MNI152NLin2009cAsym.nii.gz'),\n",
       " PosixPath('/var/folders/6n/h4150p8d5gz5kbnqv5_406940000gp/T/tmp8nhl7ijk/reference/pet/map/target-VMAT2_tracer-dtbz_n-76_dx-hc_pub-larsen2020/target-VMAT2_tracer-dtbz_n-76_dx-hc_pub-larsen2020_space-MNI152NLin2009cAsym.nii.gz')]"
      ]
     },
     "execution_count": 3,
     "metadata": {},
     "output_type": "execute_result"
    }
   ],
   "source": [
    "datasets.fetch_reference(\"pet\", nispace_data_dir=temp_nispace_data.name,\n",
    "                         github_config_file=github_config_file)\n"
   ]
  }
 ],
 "metadata": {
  "kernelspec": {
   "display_name": "nsp309",
   "language": "python",
   "name": "python3"
  },
  "language_info": {
   "codemirror_mode": {
    "name": "ipython",
    "version": 3
   },
   "file_extension": ".py",
   "mimetype": "text/x-python",
   "name": "python",
   "nbconvert_exporter": "python",
   "pygments_lexer": "ipython3",
   "version": "3.9.20"
  }
 },
 "nbformat": 4,
 "nbformat_minor": 2
}
